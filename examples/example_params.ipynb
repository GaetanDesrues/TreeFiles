{
 "cells": [
  {
   "cell_type": "code",
   "execution_count": 1,
   "metadata": {
    "collapsed": true,
    "pycharm": {
     "name": "#%%\n"
    }
   },
   "outputs": [],
   "source": [
    "import logging\n",
    "import treefiles as tf\n",
    "\n",
    "logging.basicConfig(level=logging.DEBUG)\n",
    "log = tf.get_logger()"
   ]
  },
  {
   "cell_type": "code",
   "execution_count": 2,
   "outputs": [
    {
     "name": "stdout",
     "output_type": "stream",
     "text": [
      "<Param.coef_V3=None> <Param.apd_mid=None>\n",
      "    Name   Baseline   Value     Bounds   Unit \n",
      " -------   --------   -----   --------   ---- \n",
      " coef_V3       None    None   (0.5, 3)   None \n",
      "\n",
      "    Name   Baseline   Value       Bounds   Unit \n",
      " -------   --------   -----   ----------   ---- \n",
      " coef_V3       None    None     (0.5, 3)   None \n",
      " apd_mid       None    None   (250, 350)     ms \n",
      "\n"
     ]
    }
   ],
   "source": [
    "coef_V3 = tf.Param(\"coef_V3\", bounds=(0.5, 3))\n",
    "apd = tf.Param(\"apd_mid\", unit=\"ms\", bounds=(250, 350))\n",
    "print(coef_V3, apd)\n",
    "print(coef_V3.table())\n",
    "print(tf.Params(coef_V3, apd).table())"
   ],
   "metadata": {
    "collapsed": false,
    "pycharm": {
     "name": "#%%\n"
    }
   }
  },
  {
   "cell_type": "code",
   "execution_count": 3,
   "outputs": [
    {
     "name": "stdout",
     "output_type": "stream",
     "text": [
      "\u001B[32m[INFO]\u001B[0m  [\u001B[;3mroot\u001B[0m] ParamIter (4)\n",
      "           Name   Baseline   Value     Bounds   Unit \n",
      " --------------   --------   -----   --------   ---- \n",
      " constant_param       None       1       None     mm \n",
      "        coef_V3       None       0   (0.5, 3)   None \n",
      "\n",
      "           Name   Baseline   Value     Bounds   Unit \n",
      " --------------   --------   -----   --------   ---- \n",
      " constant_param       None       1       None     mm \n",
      "        coef_V3       None       1   (0.5, 3)   None \n",
      "\n",
      "           Name   Baseline   Value     Bounds   Unit \n",
      " --------------   --------   -----   --------   ---- \n",
      " constant_param       None       1       None     mm \n",
      "        coef_V3       None       2   (0.5, 3)   None \n",
      "\n",
      "           Name   Baseline   Value     Bounds   Unit \n",
      " --------------   --------   -----   --------   ---- \n",
      " constant_param       None       1       None     mm \n",
      "        coef_V3       None       3   (0.5, 3)   None \n",
      "\n"
     ]
    }
   ],
   "source": [
    "# ParamIter\n",
    "defs = [tf.Param(\"constant_param\", 1, unit=\"mm\")]\n",
    "it = tf.ParamIter([coef_V3.copy()(i) for i in range(4)], defaults=defs)\n",
    "log.info(f\"ParamIter ({len(it)})\")\n",
    "for i, x in enumerate(it.gen):\n",
    "\tprint(x.table())"
   ],
   "metadata": {
    "collapsed": false,
    "pycharm": {
     "name": "#%%\n"
    }
   }
  },
  {
   "cell_type": "code",
   "execution_count": 4,
   "outputs": [
    {
     "name": "stdout",
     "output_type": "stream",
     "text": [
      "\u001B[32m[INFO]\u001B[0m  [\u001B[;3mroot\u001B[0m] LinearIter (5)\n",
      "    Name   Baseline   Value       Bounds   Unit \n",
      " -------   --------   -----   ----------   ---- \n",
      " coef_V3       None     0.5     (0.5, 3)   None \n",
      " apd_mid       None   250.0   (250, 350)     ms \n",
      "\n",
      "    Name   Baseline   Value       Bounds   Unit \n",
      " -------   --------   -----   ----------   ---- \n",
      " coef_V3       None    1.12     (0.5, 3)   None \n",
      " apd_mid       None   275.0   (250, 350)     ms \n",
      "\n",
      "    Name   Baseline   Value       Bounds   Unit \n",
      " -------   --------   -----   ----------   ---- \n",
      " coef_V3       None    1.75     (0.5, 3)   None \n",
      " apd_mid       None   300.0   (250, 350)     ms \n",
      "\n",
      "    Name   Baseline   Value       Bounds   Unit \n",
      " -------   --------   -----   ----------   ---- \n",
      " coef_V3       None    2.38     (0.5, 3)   None \n",
      " apd_mid       None   325.0   (250, 350)     ms \n",
      "\n",
      "    Name   Baseline   Value       Bounds   Unit \n",
      " -------   --------   -----   ----------   ---- \n",
      " coef_V3       None     3.0     (0.5, 3)   None \n",
      " apd_mid       None   350.0   (250, 350)     ms \n",
      "\n"
     ]
    }
   ],
   "source": [
    "# LinearIter\n",
    "it = tf.LinearIter(coef_V3, apd, n=5)\n",
    "log.info(f\"LinearIter ({len(it)})\")\n",
    "for i, x in enumerate(it.gen):\n",
    "\tprint(x.table())"
   ],
   "metadata": {
    "collapsed": false,
    "pycharm": {
     "name": "#%%\n"
    }
   }
  },
  {
   "cell_type": "code",
   "execution_count": 5,
   "outputs": [
    {
     "name": "stdout",
     "output_type": "stream",
     "text": [
      "\u001B[32m[INFO]\u001B[0m  [\u001B[;3mroot\u001B[0m] LinearOneAtATimeIter (10)\n",
      "    Name   Baseline   Value       Bounds   Unit \n",
      " -------   --------   -----   ----------   ---- \n",
      " coef_V3       None     0.5     (0.5, 3)   None \n",
      " apd_mid       None     210   (200, 250)     ms \n",
      "\n",
      "    Name   Baseline   Value       Bounds   Unit \n",
      " -------   --------   -----   ----------   ---- \n",
      " coef_V3       None    1.12     (0.5, 3)   None \n",
      " apd_mid       None     210   (200, 250)     ms \n",
      "\n",
      "    Name   Baseline   Value       Bounds   Unit \n",
      " -------   --------   -----   ----------   ---- \n",
      " coef_V3       None    1.75     (0.5, 3)   None \n",
      " apd_mid       None     210   (200, 250)     ms \n",
      "\n",
      "    Name   Baseline   Value       Bounds   Unit \n",
      " -------   --------   -----   ----------   ---- \n",
      " coef_V3       None    2.38     (0.5, 3)   None \n",
      " apd_mid       None     210   (200, 250)     ms \n",
      "\n",
      "    Name   Baseline   Value       Bounds   Unit \n",
      " -------   --------   -----   ----------   ---- \n",
      " coef_V3       None     3.0     (0.5, 3)   None \n",
      " apd_mid       None     210   (200, 250)     ms \n",
      "\n",
      "    Name   Baseline   Value       Bounds   Unit \n",
      " -------   --------   -----   ----------   ---- \n",
      " coef_V3       None     3.0     (0.5, 3)   None \n",
      " apd_mid       None   200.0   (200, 250)     ms \n",
      "\n",
      "    Name   Baseline   Value       Bounds   Unit \n",
      " -------   --------   -----   ----------   ---- \n",
      " coef_V3       None     3.0     (0.5, 3)   None \n",
      " apd_mid       None   212.5   (200, 250)     ms \n",
      "\n",
      "    Name   Baseline   Value       Bounds   Unit \n",
      " -------   --------   -----   ----------   ---- \n",
      " coef_V3       None     3.0     (0.5, 3)   None \n",
      " apd_mid       None   225.0   (200, 250)     ms \n",
      "\n",
      "    Name   Baseline   Value       Bounds   Unit \n",
      " -------   --------   -----   ----------   ---- \n",
      " coef_V3       None     3.0     (0.5, 3)   None \n",
      " apd_mid       None   237.5   (200, 250)     ms \n",
      "\n",
      "    Name   Baseline   Value       Bounds   Unit \n",
      " -------   --------   -----   ----------   ---- \n",
      " coef_V3       None     3.0     (0.5, 3)   None \n",
      " apd_mid       None   250.0   (200, 250)     ms \n",
      "\n"
     ]
    }
   ],
   "source": [
    "# LinearOneAtATimeIter\n",
    "it = tf.LinearOneAtATimeIter(coef_V3, apd(210, bounds=(200, 250)), n=5)\n",
    "log.info(f\"LinearOneAtATimeIter ({len(it)})\")\n",
    "for i, x in enumerate(it.gen):\n",
    "\tprint(x.table())"
   ],
   "metadata": {
    "collapsed": false,
    "pycharm": {
     "name": "#%%\n"
    }
   }
  },
  {
   "cell_type": "code",
   "execution_count": 6,
   "outputs": [
    {
     "name": "stdout",
     "output_type": "stream",
     "text": [
      "\u001B[32m[INFO]\u001B[0m  [\u001B[;3mroot\u001B[0m] LHSParamIter (3)\n",
      "       Name   Baseline    Value       Bounds   Unit \n",
      " ----------   --------   ------   ----------   ---- \n",
      " patient_id       None       12         None   None \n",
      "    coef_V3       None     1.81     (0.5, 3)   None \n",
      "    apd_mid       None   207.05   (200, 250)     ms \n",
      "\n",
      "       Name   Baseline    Value       Bounds   Unit \n",
      " ----------   --------   ------   ----------   ---- \n",
      " patient_id       None       12         None   None \n",
      "    coef_V3       None     2.26     (0.5, 3)   None \n",
      "    apd_mid       None   241.01   (200, 250)     ms \n",
      "\n",
      "       Name   Baseline    Value       Bounds   Unit \n",
      " ----------   --------   ------   ----------   ---- \n",
      " patient_id       None       12         None   None \n",
      "    coef_V3       None     0.52     (0.5, 3)   None \n",
      "    apd_mid       None   229.63   (200, 250)     ms \n",
      "\n"
     ]
    }
   ],
   "source": [
    "# LHSParamIter\n",
    "defs = [tf.Param(\"patient_id\", 12)]\n",
    "it = tf.LHSParamIter(coef_V3, apd, n=3, defaults=defs)\n",
    "log.info(f\"LHSParamIter ({len(it)})\")\n",
    "for i, x in enumerate(it.gen):\n",
    "\tprint(x.table())"
   ],
   "metadata": {
    "collapsed": false,
    "pycharm": {
     "name": "#%%\n"
    }
   }
  }
 ],
 "metadata": {
  "kernelspec": {
   "display_name": "Python 3",
   "language": "python",
   "name": "python3"
  },
  "language_info": {
   "codemirror_mode": {
    "name": "ipython",
    "version": 2
   },
   "file_extension": ".py",
   "mimetype": "text/x-python",
   "name": "python",
   "nbconvert_exporter": "python",
   "pygments_lexer": "ipython2",
   "version": "2.7.6"
  }
 },
 "nbformat": 4,
 "nbformat_minor": 0
}